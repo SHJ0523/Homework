{
 "cells": [
  {
   "cell_type": "markdown",
   "id": "9c1df501",
   "metadata": {},
   "source": [
    "# Assignment 2\n",
    "\n",
    "# 학번: 2017136055\n",
    "# 이름: 송현준"
   ]
  },
  {
   "cell_type": "markdown",
   "id": "94fe60a4",
   "metadata": {},
   "source": [
    "### 1. 다음 6 개의 Expression에 대해 Evaluation 결과 값을 출력하고, 해당 결과가 나온 이유에 대해 설명하시오"
   ]
  },
  {
   "cell_type": "code",
   "execution_count": 3,
   "id": "888f4269",
   "metadata": {},
   "outputs": [
    {
     "data": {
      "text/plain": [
       "4"
      ]
     },
     "execution_count": 3,
     "metadata": {},
     "output_type": "execute_result"
    }
   ],
   "source": [
    "1 and 2 and 3 and 4"
   ]
  },
  {
   "cell_type": "markdown",
   "id": "d8fdb4ef",
   "metadata": {},
   "source": [
    "이유: and는 두개모두 true여야 true이고 1,2,3,4 모두 ture다. 따라서 마지막에 평가한 숫자인 4가 출력된다."
   ]
  },
  {
   "cell_type": "code",
   "execution_count": 4,
   "id": "e9e76a66",
   "metadata": {},
   "outputs": [
    {
     "data": {
      "text/plain": [
       "1"
      ]
     },
     "execution_count": 4,
     "metadata": {},
     "output_type": "execute_result"
    }
   ],
   "source": [
    "1 or 2 or 3 or 4"
   ]
  },
  {
   "cell_type": "markdown",
   "id": "3a90cfbd",
   "metadata": {},
   "source": [
    "이유: or연산은 둘중 하나만 true이면 true라서 맨앞의 값이 true이기 때문에 뒤에값을 평가할 필요 없이 true이고 1이 출력된다."
   ]
  },
  {
   "cell_type": "code",
   "execution_count": 5,
   "id": "2a4c34dc",
   "metadata": {},
   "outputs": [
    {
     "data": {
      "text/plain": [
       "2"
      ]
     },
     "execution_count": 5,
     "metadata": {},
     "output_type": "execute_result"
    }
   ],
   "source": [
    "1 and 2 or 3 and 4  "
   ]
  },
  {
   "cell_type": "markdown",
   "id": "27500635",
   "metadata": {},
   "source": [
    "이유: 1 and 2는 true이고 or이 중간에 있기 때문에 뒤에값을 볼필요 없어 2가 출력된다."
   ]
  },
  {
   "cell_type": "code",
   "execution_count": 6,
   "id": "83ff7bb0",
   "metadata": {},
   "outputs": [
    {
     "data": {
      "text/plain": [
       "2"
      ]
     },
     "execution_count": 6,
     "metadata": {},
     "output_type": "execute_result"
    }
   ],
   "source": [
    "(1 and 2) or (3 and 4)"
   ]
  },
  {
   "cell_type": "markdown",
   "id": "16f28d90",
   "metadata": {},
   "source": [
    "이유: 1 and 2는 true이고 or이 중간에 있기 때문에 뒤에값을 볼필요 없어 2가 출력된다."
   ]
  },
  {
   "cell_type": "code",
   "execution_count": 7,
   "id": "0856e163",
   "metadata": {},
   "outputs": [
    {
     "data": {
      "text/plain": [
       "1"
      ]
     },
     "execution_count": 7,
     "metadata": {},
     "output_type": "execute_result"
    }
   ],
   "source": [
    "1 or 2 and 3 or 4"
   ]
  },
  {
   "cell_type": "markdown",
   "id": "42ff1ff5",
   "metadata": {},
   "source": [
    "and의 우선순위가 더 높아 일단 2 and 3을 먼저하면 true가 나온다. 그다음 앞에있는 or를 하는데 or는 앞에부터 평가 하기 때문에 1을 평가해 true가 된다. 뒤에 남은 연산은 or이기때문에 앞에가 true라 평가할 필요없이 true이다. 따라서 1이 출력된다."
   ]
  },
  {
   "cell_type": "code",
   "execution_count": 8,
   "id": "65e88d60",
   "metadata": {},
   "outputs": [
    {
     "data": {
      "text/plain": [
       "3"
      ]
     },
     "execution_count": 8,
     "metadata": {},
     "output_type": "execute_result"
    }
   ],
   "source": [
    "(1 or 2) and (3 or 4)"
   ]
  },
  {
   "cell_type": "markdown",
   "id": "a96f918e",
   "metadata": {},
   "source": [
    "이유: 두괄호를 and 하고 있는데 앞에는 true이기 때문에 뒤에 값의 결과에 따라 값이 달라진다. 뒤에 값은 3 or 4로 or앞에 3이 true 이기때문에\n",
    "뒤에 값은 true이고 3이 출력된다."
   ]
  },
  {
   "cell_type": "markdown",
   "id": "7848c570",
   "metadata": {},
   "source": [
    "### 2. 경로에 해당하는 문자열 1개를 입력 받아 그 안에 디렉토리 경로명과 파일명을 분리하여 리스트로 반환하는 함수 div_path(s)를 작성하시오.\n",
    "\n",
    "#### 인자로 전달하는 문자열은 경로만 들어간다고 가정한다.  \n",
    "#### 각 디렉토리와 파일을 구분하는 문자는 '/'로 가정한다.  \n",
    "#### 반환하는 리스트의 첫번째 원소는 디렉토리이고 두번째 원소는 파일명이다.  \n",
    "#### 다음과 같은 실행 및 출력 결과가 도출되어야 한다.  \n",
    "#### div_path('/usr/local/bin/python')  \n",
    "#### ['/usr/local/bin', 'python']  \n",
    "#### div_path('/home/chulsoo/test.txt')  \n",
    "#### ['/home/chulsoo', 'test.txt']  \n",
    "#### [참고] 리스트(l) 내에 새로운 정수값 (예를 들어 10)을 넣는 방법은 l.append(10) 이다  "
   ]
  },
  {
   "cell_type": "code",
   "execution_count": 43,
   "id": "b40437f2",
   "metadata": {},
   "outputs": [],
   "source": [
    "def div_path(s):\n",
    "    s=s.split('/')\n",
    "    dir=''\n",
    "    file=s[len(s)-1]\n",
    "    \n",
    "    for i in range(len(s)-1):\n",
    "        dir+='/'+s[i]\n",
    "    \n",
    "    dir=dir[1:len(dir)]\n",
    "    \n",
    "    return [dir,file]"
   ]
  },
  {
   "cell_type": "code",
   "execution_count": 46,
   "id": "bb1687c5",
   "metadata": {},
   "outputs": [
    {
     "name": "stdout",
     "output_type": "stream",
     "text": [
      "['/usr/local/bin', 'python']\n"
     ]
    }
   ],
   "source": [
    "print(div_path('/usr/local/bin/python'))\n"
   ]
  },
  {
   "cell_type": "markdown",
   "id": "c7c75611",
   "metadata": {},
   "source": [
    "설명: 일단 s를 전달 받고 split을 이용해 '/'를 지워 리스트로 만든다.  그러면 file은 리스트에 마지막 인자인 s[len(s)-1]이 된다.  \n",
    "그리고 dir을 구하는데 지워줬던 '/'를 for문을 이용해 다시 붙혀주었다. 그리고 맨앞에 '/'가 2개 붙기 때문에  dir을 슬라이싱하여 맨앞에 붙은 '/'를 지워주었다. 마지막으로 리스트 [dir, file]을 반환한다."
   ]
  },
  {
   "cell_type": "markdown",
   "id": "bb5b7ba0",
   "metadata": {},
   "source": [
    "### 3. 두 개의 리스트를 인자로 받아서 그 두 개의 리스트에 대한 '합집합'을 반환하는 함수 list_union(lista, listb)를 작성하시오.\n",
    "- 집합 자료형 set은 사용하지 않는다.  \n",
    "- 인자로 전달하는 리스트 2 개에는 정수값만 들어간다고 가정하자.  \n",
    "- 함수 내에서 새로운 리스트를 만들어 그 리스트 내에 인자로 받은 두 리스트의 모든 원소를 넣어 반환한다.  \n",
    "- 반환하는 리스트에는 절대로 중복된 원소가 들어 있으면 안된다 (집합의 조건).  \n",
    "- 반환하는 리스트는 정렬이 되어 있어야 한다.  \n",
    "- 다음과 같은 실행 및 출력 결과가 도출되어야 한다.  \n",
    "\n",
    "list_union([1, 2, 3], [1, 2, 4])\n",
    "-  [1, 2, 3, 4]  \n",
    "\n",
    "list_union([-10, -5, 0, -1], [100, 9, 0, 9])  \n",
    "-  [-10, -5, -1, 0, 9, 100]  \n",
    "\n",
    "list_union([0, 1, 2], [0, 1, 2])  \n",
    "-  [0, 1, 2]  \n",
    "\n",
    " [참고] 리스트(l) 내에 새로운 정수값 (예를 들어 10)을 넣는 방법은 l.append(10) 이다.  \n",
    " [참고] 임의의 정수값 (x)이 리스트 (l) 내에 존재하는지 판단하는 방법은 x in l 이다.  "
   ]
  },
  {
   "cell_type": "code",
   "execution_count": 53,
   "id": "4688799e",
   "metadata": {},
   "outputs": [],
   "source": [
    "def list_union(lista, listb):\n",
    "\n",
    "    newlist=[]    \n",
    "    for n in lista:\n",
    "        if n not in newlist:\n",
    "            newlist.append(n)\n",
    "    \n",
    "    for n in listb:\n",
    "        if n not in newlist:\n",
    "            newlist.append(n)\n",
    "    return sorted(newlist)"
   ]
  },
  {
   "cell_type": "code",
   "execution_count": 55,
   "id": "4411f921",
   "metadata": {},
   "outputs": [
    {
     "name": "stdout",
     "output_type": "stream",
     "text": [
      "[1, 2, 3, 4]\n",
      "[-10, -5, -1, 0, 9, 100]\n",
      "[0, 1, 2]\n"
     ]
    }
   ],
   "source": [
    "print(list_union([1, 2, 3], [1, 2, 4]))\n",
    "print(list_union([-10, -5, 0, -1], [100, 9, 0, 9]))\n",
    "print(list_union([0, 1, 2], [0, 1, 2]))"
   ]
  },
  {
   "cell_type": "markdown",
   "id": "1065ea37",
   "metadata": {},
   "source": [
    "설명: 처음에 newlist에 lista를 담는다 중복이 있을경우 담지 않는다. 그리고 listb를 담는데 중복이 있을경우 담지 않는다. 마지막에는 sorted함수를 통해 정렬한것을 반환한다."
   ]
  },
  {
   "cell_type": "markdown",
   "id": "e95aef9b",
   "metadata": {},
   "source": [
    "### 4. 두 개의 리스트를 인자로 받아서 그 두 개의 리스트에 대한 '교집합'을 반환하는 함수 list_intersection(lista, listb)와 '차집합'을 반환하는 함수 list_difference(lista, listb)를 작성하시오.\n",
    "- 모든 가정과 조건은 3번 문제와 동일하다."
   ]
  },
  {
   "cell_type": "code",
   "execution_count": 101,
   "id": "80f0e662",
   "metadata": {},
   "outputs": [],
   "source": [
    "def list_intersection(lista, listb):\n",
    "    newlist_1=[]\n",
    "    newlist_2=[]\n",
    "    for n in lista: #lista는 리스트기 때문에 중복이 있을수도있다 따라서 그것을 먼저 처리\n",
    "        if n not in newlist_1:\n",
    "            newlist_1.append(n)  \n",
    "    \n",
    "    for n in newlist_1:\n",
    "        print(n)\n",
    "        if n in listb:\n",
    "            newlist_2.append(n)\n",
    "            \n",
    "    return sorted(newlist_2)"
   ]
  },
  {
   "cell_type": "code",
   "execution_count": 105,
   "id": "aaa06cb5",
   "metadata": {},
   "outputs": [
    {
     "name": "stdout",
     "output_type": "stream",
     "text": [
      "1\n",
      "2\n",
      "3\n",
      "[1, 2]\n",
      "-10\n",
      "-5\n",
      "0\n",
      "-1\n",
      "[0]\n",
      "0\n",
      "1\n",
      "2\n",
      "[0, 1, 2]\n"
     ]
    }
   ],
   "source": [
    "print(list_intersection([1, 2, 3], [1, 2, 4]))\n",
    "print(list_intersection([-10, -5, 0, -1], [100, 9, 0, 9]))\n",
    "print(list_intersection([0, 1, 2], [0, 1, 2]))"
   ]
  },
  {
   "cell_type": "markdown",
   "id": "a29c0c00",
   "metadata": {},
   "source": [
    "설명: 교집합의 경우 일단 lista의 중복을 없앤뒤 newlist_1에 저장하고, newlist_2에는 lista의 중복을 없앤 newlist_1과 listb와 비교하며 listb안에 있을 경우 그 인자를 넣어주었다."
   ]
  },
  {
   "cell_type": "code",
   "execution_count": 148,
   "id": "befbc7d0",
   "metadata": {},
   "outputs": [],
   "source": [
    "def list_difference(lista, listb):\n",
    "    newlist=[]\n",
    "    for n in lista: #lista는 리스트기 때문에 중복이 있을수도있다 따라서 그것을 먼저 처리\n",
    "        if n not in newlist:\n",
    "            newlist.append(n)  \n",
    "            \n",
    "    for n in listb:\n",
    "        if n in newlist:\n",
    "            newlist.remove(n)\n",
    "            \n",
    "            \n",
    "\n",
    "            \n",
    "    return sorted(newlist)"
   ]
  },
  {
   "cell_type": "code",
   "execution_count": 149,
   "id": "8ca74cd7",
   "metadata": {},
   "outputs": [
    {
     "name": "stdout",
     "output_type": "stream",
     "text": [
      "[3]\n",
      "[-10, -5, -1]\n",
      "[]\n"
     ]
    }
   ],
   "source": [
    "print(list_difference([1, 2, 3], [1, 2, 4]))\n",
    "print(list_difference([-10, -5, 0, -1], [100, 9, 0, 9]))\n",
    "print(list_difference([0, 1, 2], [0, 1, 2]))"
   ]
  },
  {
   "cell_type": "markdown",
   "id": "a721a9fb",
   "metadata": {},
   "source": [
    "설명: 차집합의 경우 일단 lista의 중복을 없앤뒤 newlist에 저장하고, newlist와 listb의 중복을 확인하고 중복되는 요소는 newlist에서 제거하였다."
   ]
  },
  {
   "cell_type": "markdown",
   "id": "a7b94a3b",
   "metadata": {},
   "source": [
    "### 5. 두 개의 양의 정수를 인자로 받아서 해당 범위안에 있는 소수(prime number)의 리스트를 출력하는 함수 print_primenumber(a, b)를 작성하시오.\n",
    "- 이미 구현된 모듈이나 라이브러리는 사용하지 않는다.\n",
    "- 함수의 반환(return)은 없으며 함수 내의 끝에서 .format()을 사용하여 다음과 같이 출력한다.\n",
    "    - print_primenumber(2, 10)\n",
    "        - 2 이상 10 이하 정수 중 소수 리스트: [2, 3, 5, 7]"
   ]
  },
  {
   "cell_type": "code",
   "execution_count": 183,
   "id": "56e90bd2",
   "metadata": {},
   "outputs": [],
   "source": [
    "def print_primenumber(a, b):  \n",
    "    prime=[]\n",
    "    for i in range(a, b+1):\n",
    "        count = 0\n",
    "        for j in range(1, b+1):\n",
    "            if i%j==0:\n",
    "                count+=1\n",
    "        if count==2:\n",
    "            prime.append(i)\n",
    "    \n",
    "    print(\"{}\".format(prime))"
   ]
  },
  {
   "cell_type": "code",
   "execution_count": 184,
   "id": "296c8f2e",
   "metadata": {},
   "outputs": [
    {
     "name": "stdout",
     "output_type": "stream",
     "text": [
      "[2, 3, 5, 7, 11]\n"
     ]
    }
   ],
   "source": [
    "print_primenumber(2, 11)"
   ]
  },
  {
   "cell_type": "markdown",
   "id": "a21eb732",
   "metadata": {},
   "source": [
    "설명: count를 이용해 약수의 갯수가 총 2개이면 prime리스트에 넣는다. 이렇게 a부터 b까지 반복하면 prime에는 소수만 남게 된다. 마지막에는 포맷팅을 통해 출력한다."
   ]
  },
  {
   "cell_type": "markdown",
   "id": "b62d94ef",
   "metadata": {},
   "source": [
    "---\n",
    "\n"
   ]
  },
  {
   "cell_type": "markdown",
   "id": "0836c65a",
   "metadata": {},
   "source": [
    "# [Incremental Project 문제]\n",
    "### 웹 URL로 지정된 웹페이지를 문자열로 가져와 1) 모든 HTML 태그를 제외한 순수 텍스트 문자열만을 걸러내고, 2) 그 순수 텍스트 문자열 안에 존재하는 단어가 총 몇개인지 출력하는 프로그램을 작성하시오.  HTML 태그는 다음 조건을 가지는 것이다.\n"
   ]
  },
  {
   "cell_type": "code",
   "execution_count": 179,
   "id": "d9d4970c",
   "metadata": {},
   "outputs": [],
   "source": [
    "def numOfWord(url):\n",
    "    import requests\n",
    "\n",
    "    req = requests.get(url)\n",
    "\n",
    "    source = req.text\n",
    "    #print(source)\n",
    "    word = ''\n",
    "\n",
    "    i=0\n",
    "    while i<len(source):\n",
    "        if source[i]=='<':\n",
    "            while source[i]!='>':\n",
    "                i+=1\n",
    "            i+=1\n",
    "        else:\n",
    "            word+=source[i]\n",
    "            i+=1\n",
    "\n",
    "    wordlist=word.split()\n",
    "    #print(wordlist)\n",
    "    print(len(wordlist))"
   ]
  },
  {
   "cell_type": "code",
   "execution_count": 180,
   "id": "810f97f1",
   "metadata": {},
   "outputs": [
    {
     "name": "stdout",
     "output_type": "stream",
     "text": [
      "36\n",
      "\n",
      "822\n",
      "\n",
      "192\n"
     ]
    }
   ],
   "source": [
    "numOfWord('http://cse.koreatech.ac.kr')\n",
    "print()\n",
    "numOfWord('https://comic.naver.com/index')\n",
    "print()\n",
    "numOfWord('https://www.google.com/')"
   ]
  },
  {
   "cell_type": "markdown",
   "id": "471f416e",
   "metadata": {},
   "source": [
    "설명: numOfWord라는 단어의 갯수를 출력하는 함수를 정의하였다. while문에서 '<'이 발견될 경우 '>'이 나올때 까지 i를 증가시키고 '>'를 발견하면 while문에서 빠져나오며 i+=1을한다. 이렇게 하면 i를 증가시키며 '<'에서 '>'까지 모두 생략이 가능하다.   \n",
    "만약 '<'이 발견되지 않으면 word에 그대로 추가하게 된다.  \n",
    "이렇게 len(source)까지의 반복을 마치면 word는 HTML 태그가 제거된 문자열이된다.  \n",
    "마지막으로 word.split()을통해 공백이나 엔터를 없애며 wolrdlist에 저장한다. 그러면 wordlist의 리스트 길이가 곧 단어의 갯수가 된다."
   ]
  },
  {
   "cell_type": "markdown",
   "id": "5e320647",
   "metadata": {},
   "source": [
    "## 숙제소감\n",
    "\n",
    "이번 과제는 저번 과제보단 쉬웠던거 같다. 처음 과제를 진행할때는 파이썬을 배운지 얼마안되었고 주피터노트북 사용이 많이 어색했는데 저번보다 많이 익숙해 진것 같다. 점점 파이썬에 흥미가 생기는것같아 좋다."
   ]
  }
 ],
 "metadata": {
  "kernelspec": {
   "display_name": "Python 3",
   "language": "python",
   "name": "python3"
  },
  "language_info": {
   "codemirror_mode": {
    "name": "ipython",
    "version": 3
   },
   "file_extension": ".py",
   "mimetype": "text/x-python",
   "name": "python",
   "nbconvert_exporter": "python",
   "pygments_lexer": "ipython3",
   "version": "3.8.8"
  }
 },
 "nbformat": 4,
 "nbformat_minor": 5
}

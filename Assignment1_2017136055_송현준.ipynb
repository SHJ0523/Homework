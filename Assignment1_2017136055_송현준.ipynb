{
 "cells": [
  {
   "cell_type": "markdown",
   "id": "caa28bb8",
   "metadata": {},
   "source": [
    "# Assignment 1\n",
    "## 학번: 2017136055\n",
    "## 이름: 송현준"
   ]
  },
  {
   "cell_type": "markdown",
   "id": "ea411b89",
   "metadata": {},
   "source": [
    "### 1번. a=\"Hello Python\" 문자열을 Slicing과 연결 연산자 (+)를 사용하여 \"Python Hello\"로 변경하시오."
   ]
  },
  {
   "cell_type": "code",
   "execution_count": 16,
   "id": "3388a4b7",
   "metadata": {},
   "outputs": [
    {
     "name": "stdout",
     "output_type": "stream",
     "text": [
      "Hello Python\n",
      "Python Hello\n"
     ]
    }
   ],
   "source": [
    "a=\"Hello Python\"\n",
    "print(a)\n",
    "a=a[6:12]+' '+a[0:5]\n",
    "print(a)"
   ]
  },
  {
   "cell_type": "markdown",
   "id": "0a8cd013",
   "metadata": {},
   "source": [
    "설명: Slicing을 통해 \"Hello\"와 \"Python\"을 끊어서 \"Python\"+'공백'+\"Hello\" 를 하였다. \n"
   ]
  },
  {
   "cell_type": "markdown",
   "id": "b694f409",
   "metadata": {},
   "source": [
    "### 2번. b=\"Hello Python World\" 문자열을 Slicing과 연결 연산자 (+)를 사용하여 \"World Python Hello\"로 변경하시오."
   ]
  },
  {
   "cell_type": "code",
   "execution_count": 24,
   "id": "8b8f9bd3",
   "metadata": {},
   "outputs": [
    {
     "name": "stdout",
     "output_type": "stream",
     "text": [
      "Hello Python World\n",
      "World Python Hello\n"
     ]
    }
   ],
   "source": [
    "b=\"Hello Python World\"\n",
    "print(b)\n",
    "b=b[13:18]+' '+b[6:12]+' '+b[0:5]\n",
    "print(b)"
   ]
  },
  {
   "cell_type": "markdown",
   "id": "701c8b10",
   "metadata": {},
   "source": [
    "설명: Slicing을 통해 \"Hello\"와 \"Python\" 과 \"World\"를 끊고 중간에 '공백' 을 추가하며 글자를 연결하였다."
   ]
  },
  {
   "cell_type": "markdown",
   "id": "cc5091f1",
   "metadata": {},
   "source": [
    "### 3번. c=\"Hello\"를 \"olleH\"로 변경하시오"
   ]
  },
  {
   "cell_type": "code",
   "execution_count": 12,
   "id": "5f926e88",
   "metadata": {},
   "outputs": [
    {
     "name": "stdout",
     "output_type": "stream",
     "text": [
      "olleH\n"
     ]
    }
   ],
   "source": [
    "c=\"Hello\"\n",
    "\n",
    "c=c[::-1] \n",
    "print(c)"
   ]
  },
  {
   "cell_type": "markdown",
   "id": "4672e96f",
   "metadata": {},
   "source": [
    "\n",
    "설명: Slicing을 이용해 [::-1] 역순으로 문자열을 저장하였다.\n"
   ]
  },
  {
   "cell_type": "markdown",
   "id": "71ef1544",
   "metadata": {},
   "source": [
    "### 4번. s=\"python\"에 대해 다음 문제를 풀어보시오."
   ]
  },
  {
   "cell_type": "code",
   "execution_count": 17,
   "id": "8dd9f263",
   "metadata": {},
   "outputs": [],
   "source": [
    "s=\"python\""
   ]
  },
  {
   "cell_type": "markdown",
   "id": "ef29d051",
   "metadata": {},
   "source": [
    "#### (A) s[0], s[0][0], s[0][0][0]은 각각 어떤 값이 나오는지 확인하고 그 이유를 나름대로 설명해 보시오."
   ]
  },
  {
   "cell_type": "code",
   "execution_count": 18,
   "id": "814e1141",
   "metadata": {},
   "outputs": [
    {
     "name": "stdout",
     "output_type": "stream",
     "text": [
      "p p p\n"
     ]
    }
   ],
   "source": [
    "print(s[0], s[0][0], s[0][0][0])"
   ]
  },
  {
   "cell_type": "markdown",
   "id": "44706969",
   "metadata": {},
   "source": [
    "설명: 각각 p로 모두 같게 나오는데 이유는 3개 모두 같은 곳을 가리키기 때문이다. id()함수를 통해 이를 확인해 보았다. "
   ]
  },
  {
   "cell_type": "code",
   "execution_count": 23,
   "id": "84408922",
   "metadata": {},
   "outputs": [
    {
     "name": "stdout",
     "output_type": "stream",
     "text": [
      "2658184022256\n",
      "2658184022256\n",
      "2658184022256\n"
     ]
    }
   ],
   "source": [
    "print(id(s[0]))\n",
    "print(id(s[0][0]))\n",
    "print(id(s[0][0][0]))"
   ]
  },
  {
   "cell_type": "markdown",
   "id": "9593b55b",
   "metadata": {},
   "source": [
    "#### (B) s[-100], s[100]은 값이 나오는지 에러가 나오는지 확인하고 그 결과에 대한 이유를 나름대로 설명해 보시오."
   ]
  },
  {
   "cell_type": "code",
   "execution_count": 25,
   "id": "20e56d66",
   "metadata": {},
   "outputs": [
    {
     "ename": "IndexError",
     "evalue": "string index out of range",
     "output_type": "error",
     "traceback": [
      "\u001b[1;31m---------------------------------------------------------------------------\u001b[0m",
      "\u001b[1;31mIndexError\u001b[0m                                Traceback (most recent call last)",
      "\u001b[1;32m<ipython-input-25-751fe7c0b95d>\u001b[0m in \u001b[0;36m<module>\u001b[1;34m\u001b[0m\n\u001b[1;32m----> 1\u001b[1;33m \u001b[0mprint\u001b[0m\u001b[1;33m(\u001b[0m\u001b[0ms\u001b[0m\u001b[1;33m[\u001b[0m\u001b[1;33m-\u001b[0m\u001b[1;36m100\u001b[0m\u001b[1;33m]\u001b[0m\u001b[1;33m,\u001b[0m \u001b[0ms\u001b[0m\u001b[1;33m[\u001b[0m\u001b[1;36m100\u001b[0m\u001b[1;33m]\u001b[0m\u001b[1;33m)\u001b[0m\u001b[1;33m\u001b[0m\u001b[1;33m\u001b[0m\u001b[0m\n\u001b[0m",
      "\u001b[1;31mIndexError\u001b[0m: string index out of range"
     ]
    }
   ],
   "source": [
    "print(s[-100], s[100])"
   ]
  },
  {
   "cell_type": "markdown",
   "id": "5646ac58",
   "metadata": {},
   "source": [
    "설명: -100과 100은 index 범위에서 벗어나기 때문이다"
   ]
  },
  {
   "cell_type": "markdown",
   "id": "db32dc64",
   "metadata": {},
   "source": [
    "#### (c)s[-100, 100]은 값이 나오는지 에러가 나오는지 확인하고 그 결과에 대한 이유를 나름대로 설명해 보시오."
   ]
  },
  {
   "cell_type": "code",
   "execution_count": 26,
   "id": "ddeb2504",
   "metadata": {},
   "outputs": [
    {
     "ename": "TypeError",
     "evalue": "string indices must be integers",
     "output_type": "error",
     "traceback": [
      "\u001b[1;31m---------------------------------------------------------------------------\u001b[0m",
      "\u001b[1;31mTypeError\u001b[0m                                 Traceback (most recent call last)",
      "\u001b[1;32m<ipython-input-26-c209b42beee1>\u001b[0m in \u001b[0;36m<module>\u001b[1;34m\u001b[0m\n\u001b[1;32m----> 1\u001b[1;33m \u001b[0mprint\u001b[0m\u001b[1;33m(\u001b[0m\u001b[0ms\u001b[0m\u001b[1;33m[\u001b[0m\u001b[1;33m-\u001b[0m\u001b[1;36m100\u001b[0m\u001b[1;33m,\u001b[0m \u001b[1;36m100\u001b[0m\u001b[1;33m]\u001b[0m\u001b[1;33m)\u001b[0m\u001b[1;33m\u001b[0m\u001b[1;33m\u001b[0m\u001b[0m\n\u001b[0m",
      "\u001b[1;31mTypeError\u001b[0m: string indices must be integers"
     ]
    }
   ],
   "source": [
    "print(s[-100, 100])"
   ]
  },
  {
   "cell_type": "markdown",
   "id": "24940d96",
   "metadata": {},
   "source": [
    "설명: index에는 정수값이 들어가야 하기 때문이다"
   ]
  },
  {
   "cell_type": "markdown",
   "id": "eed3fd18",
   "metadata": {},
   "source": [
    "#### (D) s[1:-1]의 결과를 확인하고 그 결과에 대한 이유를 정확하게 설명하시오."
   ]
  },
  {
   "cell_type": "code",
   "execution_count": 27,
   "id": "1be98b99",
   "metadata": {},
   "outputs": [
    {
     "name": "stdout",
     "output_type": "stream",
     "text": [
      "ytho\n"
     ]
    }
   ],
   "source": [
    "print(s[1:-1])"
   ]
  },
  {
   "cell_type": "markdown",
   "id": "0f83fced",
   "metadata": {},
   "source": [
    "설명: s[1]은 y를 가르키고 s[-1]은 마지막 글자인 n을 카리킨다. \n",
    "따라서 슬라이싱을 사용하기 때문에 y부터 n의 바로앞글자인 o까지 출력하여 ytho가 출력된다."
   ]
  },
  {
   "cell_type": "markdown",
   "id": "fcf8e210",
   "metadata": {},
   "source": [
    "#### (E) s[3:-3]의 결과를 확인하고 그 결과에 대한 이유를 정확하게 설명하시오."
   ]
  },
  {
   "cell_type": "code",
   "execution_count": 28,
   "id": "955c5946",
   "metadata": {},
   "outputs": [
    {
     "name": "stdout",
     "output_type": "stream",
     "text": [
      "\n"
     ]
    }
   ],
   "source": [
    "print(s[3:-3])"
   ]
  },
  {
   "cell_type": "markdown",
   "id": "35750312",
   "metadata": {},
   "source": [
    "설명: s[3]은 h를 s[-3]도 h를 나타낸다. 슬라이싱을 사용하였지만 h부터 h보다 앞에 있는글자를 출력하는것은 안되기 때문에 출력되지 않는다."
   ]
  },
  {
   "cell_type": "markdown",
   "id": "6cde0e38",
   "metadata": {},
   "source": [
    "### 5번. for문을 활용하여 1부터 100사이의 홀수를 출력하시오."
   ]
  },
  {
   "cell_type": "code",
   "execution_count": 30,
   "id": "e4770d05",
   "metadata": {},
   "outputs": [
    {
     "name": "stdout",
     "output_type": "stream",
     "text": [
      "1 3 5 7 9 11 13 15 17 19 21 23 25 27 29 31 33 35 37 39 41 43 45 47 49 51 53 55 57 59 61 63 65 67 69 71 73 75 77 79 81 83 85 87 89 91 93 95 97 99 "
     ]
    }
   ],
   "source": [
    "for i in range(1, 101, 1):\n",
    "    if i%2==1:\n",
    "        print(i, end=' ')\n",
    "    "
   ]
  },
  {
   "cell_type": "markdown",
   "id": "cb61e71b",
   "metadata": {},
   "source": [
    "설명: for에 range함수를 사용해 1에서 100사이의 수를 1씩 증가하며 접근하게 했고 if문을 통해 홀수를 판별하여 홀수일경우 하나씩 출력하게 하였다"
   ]
  },
  {
   "cell_type": "markdown",
   "id": "dc438a50",
   "metadata": {},
   "source": [
    "### 6번. while문을 활용하여 1부터 100사이의 짝수의 합을 계산하여 출력하시오."
   ]
  },
  {
   "cell_type": "code",
   "execution_count": 33,
   "id": "4c6c1558",
   "metadata": {},
   "outputs": [
    {
     "name": "stdout",
     "output_type": "stream",
     "text": [
      "2550\n"
     ]
    }
   ],
   "source": [
    "sum=0\n",
    "i=1\n",
    "while i<=100:\n",
    "    if i%2==0:\n",
    "        sum+=i\n",
    "    i+=1\n",
    "print(sum)    "
   ]
  },
  {
   "cell_type": "markdown",
   "id": "96af1f11",
   "metadata": {},
   "source": [
    "설명: while문을 사용해 100까지 반복하고 if문을 이용해 짝수일 경우 sum에 i를 더하게 만들었다 while문 마지막에는 i를 1씩 더했다. "
   ]
  },
  {
   "cell_type": "markdown",
   "id": "e22a5619",
   "metadata": {},
   "source": [
    "### 7번. 사용자로 부터 임의의 정수를 입력받고, 해당 숫자를 역순으로 출력하는 프로그램을 작성하시오."
   ]
  },
  {
   "cell_type": "code",
   "execution_count": 47,
   "id": "4844a228",
   "metadata": {},
   "outputs": [
    {
     "name": "stdout",
     "output_type": "stream",
     "text": [
      "정수를 입력하세요: 3125\n",
      "숫자 역순은 5213 입니다.\n"
     ]
    }
   ],
   "source": [
    "num=int(input(\"정수를 입력하세요: \"))\n",
    "s=str(num)[::-1]\n",
    "num=int(s)\n",
    "print(\"숫자 역순은\",num,\"입니다.\")\n"
   ]
  },
  {
   "cell_type": "markdown",
   "id": "9ed69f00",
   "metadata": {},
   "source": [
    "설명:num에 정수를 입력받은뒤 num을 문자열로 변환하여 Slicing을 통해 뒤집어서 s에 저장한다. 그리고 다시 s를 정수로 변환하여 num에 저장한다."
   ]
  },
  {
   "cell_type": "markdown",
   "id": "dcb15dbe",
   "metadata": {},
   "source": [
    "### 8번. 사용자로 부터 정수를 입력받아서 1부터 그 사이에 존재하는 소수 (Prime number)를 출력하는 파이썬 프로그램을 작성하시오."
   ]
  },
  {
   "cell_type": "code",
   "execution_count": 53,
   "id": "fc8edea6",
   "metadata": {},
   "outputs": [
    {
     "name": "stdout",
     "output_type": "stream",
     "text": [
      "정수를 입력하세요: 100\n",
      "2 3 5 7 11 13 17 19 23 29 31 37 41 43 47 53 59 61 67 71 73 79 83 89 97 "
     ]
    }
   ],
   "source": [
    "n=int(input(\"정수를 입력하세요: \"))\n",
    "for i in range(1, n+1):\n",
    "    count = 0\n",
    "    for j in range(1, i+1):\n",
    "        if i%j==0:\n",
    "            count+=1\n",
    "    if count==2:\n",
    "        print(i, end=\" \")\n",
    "            "
   ]
  },
  {
   "cell_type": "markdown",
   "id": "436b3769",
   "metadata": {},
   "source": [
    "설명: count변수를 이용해 약수의 갯수를 count한다. 2중 for문에서 수를 1씩증가시키며 약수의 갯수를 파악하며 약수의 갯수가 2면 그 수는 소수이므로 출력한다."
   ]
  },
  {
   "cell_type": "markdown",
   "id": "c0922df3",
   "metadata": {},
   "source": [
    "### 9번. Kevin과 Stuart는 게임을 한다. 규칙은 아래와 같다.\n",
    "\n",
    "두 플레이어에게 같은 string, S, 가 주어진다.  \n",
    "두 플레이어는 string S의 문자를 사용하여 substring을 만들어야 한다(중복 가능).  \n",
    "Stuart는 자음으로 시작하는 단어를 만들어야 한다.  \n",
    "Kevin은 모음으로 시작하는 단어를 만들어야 한다.  \n",
    "게임은 두 플레이어가 만들 수 있는 모든 단어를 만들었을 때 끝난다.  \n",
    "점수 계산 : substring 1개당 +1 점을 획득한다. (아래 그림 참고)  "
   ]
  },
  {
   "cell_type": "code",
   "execution_count": 54,
   "id": "8afbe1c7",
   "metadata": {},
   "outputs": [
    {
     "name": "stdout",
     "output_type": "stream",
     "text": [
      "string S를 입력하세요: 3\n"
     ]
    }
   ],
   "source": [
    "S=input(\"string S를 입력하세요: \")\n"
   ]
  },
  {
   "cell_type": "markdown",
   "id": "a513b578",
   "metadata": {},
   "source": [
    "### 10번. 알파벳 소문자만으로 이루어진 string, S, 가 주어지고 아래 2가지 연산을 수행할 수 있다.\n",
    "추가 : string S의 끝에 알파벳 소문자 하나를 추가한다.  \n",
    "삭제 : string S의 마지막 문자 하나를 삭제한다. empty string에서 삭제 연산을 수행한 결과는 empty string이다.  "
   ]
  },
  {
   "cell_type": "code",
   "execution_count": 84,
   "id": "c5b0aa5e",
   "metadata": {},
   "outputs": [],
   "source": [
    "def appendDelete(s, t, k):\n",
    "    n = min(len(s),len(t))\n",
    "    d=n                    \n",
    "    for i in range(n):\n",
    "        if s[i]!=t[i]:\n",
    "            d=i            #어디 부터 달라지는지 찾음\n",
    "            break\n",
    "    num=len(s)+len(t)-2*d  #몇글자 삭제하고 몇글자 추가해야 하는지\n",
    "    if k==num or (k>num and (k-num)%2==0):\n",
    "        return 'Yes'\n",
    "    else:\n",
    "        return 'No'\n",
    " \n"
   ]
  },
  {
   "cell_type": "code",
   "execution_count": 73,
   "id": "8d5b2ef2",
   "metadata": {},
   "outputs": [
    {
     "data": {
      "text/plain": [
       "'Yes'"
      ]
     },
     "execution_count": 73,
     "metadata": {},
     "output_type": "execute_result"
    }
   ],
   "source": [
    "s = 'hackerhappy'    \n",
    "t = 'hackerrank'    \n",
    "k = 9    \n",
    "appendDelete(s, t, k)  "
   ]
  },
  {
   "cell_type": "code",
   "execution_count": 81,
   "id": "57f63a12",
   "metadata": {},
   "outputs": [
    {
     "data": {
      "text/plain": [
       "'No'"
      ]
     },
     "execution_count": 81,
     "metadata": {},
     "output_type": "execute_result"
    }
   ],
   "source": [
    "s = 'aba'            \n",
    "t = 'aba'           \n",
    "k = 7  \n",
    "appendDelete(s, t, k)  "
   ]
  },
  {
   "cell_type": "code",
   "execution_count": 82,
   "id": "1ba1dd43",
   "metadata": {},
   "outputs": [
    {
     "data": {
      "text/plain": [
       "'No'"
      ]
     },
     "execution_count": 82,
     "metadata": {},
     "output_type": "execute_result"
    }
   ],
   "source": [
    "s = 'ashley'         \n",
    "t = 'ash'           \n",
    "k = 2  \n",
    "appendDelete(s, t, k)  "
   ]
  },
  {
   "cell_type": "markdown",
   "id": "a310f4e2",
   "metadata": {},
   "source": [
    "설명: empty string에서 삭제연산부분을 반영하지 못해서 'aba'비교 에서 다른 결과가 나온것 같다.  \n",
    "      if문에 대해 설명하면 num이 k와 같으면 Yes를 반환하는데\n",
    "      k-num이 짝수가 되야하는 이유는 추가하고 삭제를 하면 다시 원점으로 돌아오기 때문이다."
   ]
  },
  {
   "cell_type": "markdown",
   "id": "0568db4f",
   "metadata": {},
   "source": [
    "# [소감]\n",
    "\n",
    "지금까지 강의 들으며 처음 파이썬을 배워보는데 낫설기도 하지만 재미있습니다. 숙제를 하며 처음 부분은 쉬웠는데 9번, 10번 문제가 많이 어려웠습니다. 온라인 강의를 통해 기초를 배우고 실시간 강의를 통해 심화과정을 배우니 단계별로 배우는 느낌이라 좋은것 같습니다. "
   ]
  }
 ],
 "metadata": {
  "kernelspec": {
   "display_name": "Python 3",
   "language": "python",
   "name": "python3"
  },
  "language_info": {
   "codemirror_mode": {
    "name": "ipython",
    "version": 3
   },
   "file_extension": ".py",
   "mimetype": "text/x-python",
   "name": "python",
   "nbconvert_exporter": "python",
   "pygments_lexer": "ipython3",
   "version": "3.8.8"
  }
 },
 "nbformat": 4,
 "nbformat_minor": 5
}
